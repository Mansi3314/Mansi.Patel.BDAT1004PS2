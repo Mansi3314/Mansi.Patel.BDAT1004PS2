{
 "cells": [
  {
   "cell_type": "markdown",
   "id": "9177e74a",
   "metadata": {},
   "source": [
    "# Data Programming : Problem Set 2"
   ]
  },
  {
   "cell_type": "markdown",
   "id": "96d39bb6",
   "metadata": {},
   "source": [
    "# 1) Running and executing the given code :"
   ]
  },
  {
   "cell_type": "code",
   "execution_count": 5,
   "id": "3162531a",
   "metadata": {},
   "outputs": [
    {
     "name": "stdout",
     "output_type": "stream",
     "text": [
      "2\n",
      "4\n",
      "6\n"
     ]
    },
    {
     "data": {
      "text/plain": [
       "6"
      ]
     },
     "execution_count": 5,
     "metadata": {},
     "output_type": "execute_result"
    }
   ],
   "source": [
    "a=0\n",
    "def b():\n",
    "    global a\n",
    "    a=c(a)\n",
    "    print(a)\n",
    "    \n",
    "def c(a):\n",
    "    return a+2\n",
    "\n",
    "b()\n",
    "b()\n",
    "b()\n",
    "a\n"
   ]
  },
  {
   "cell_type": "markdown",
   "id": "661e6901",
   "metadata": {},
   "source": [
    "# Explanation:\n",
    "\n",
    "Here,in the program the variable a is declared global so that every function can use that variable.\n",
    "\n",
    "Variable a is initially 0 i.e (a=0)\n",
    "\n",
    "Now, firstly when b() function is called, value of a is 0 and when function c() is called through variable a, which returns 0+2 that is 2 to a.\n",
    "\n",
    "Now the value of a is changed from 0 to 2 after calling function b().\n",
    "Every time function b() is called 2 is added to variable a.\n",
    "\n",
    "Thus after calling b() three times value of a is 6 at the end."
   ]
  },
  {
   "cell_type": "markdown",
   "id": "23613f39",
   "metadata": {},
   "source": [
    "# 2) Printing a friendly message of exception generated from function fileLength()."
   ]
  },
  {
   "cell_type": "code",
   "execution_count": 8,
   "id": "37e21da3",
   "metadata": {},
   "outputs": [
    {
     "name": "stdout",
     "output_type": "stream",
     "text": [
      "length of file is : 77\n"
     ]
    }
   ],
   "source": [
    "def fileLength(filename):\n",
    "    file=open(filename,'r')\n",
    "    count=len(file.read())\n",
    "    i_count=int(count)\n",
    "    print('length of file is :',i_count)\n",
    "        \n",
    "fileLength('bloodtype.txt')\n"
   ]
  },
  {
   "cell_type": "code",
   "execution_count": 6,
   "id": "4ed9f4a3",
   "metadata": {},
   "outputs": [
    {
     "name": "stdout",
     "output_type": "stream",
     "text": [
      "File not found\n",
      "\n",
      "Enter the file name you which is already existing or check the name which you have entered\n"
     ]
    }
   ],
   "source": [
    "def fileLength(excepFile):\n",
    "    try:\n",
    "        excepInput=open(excepFile,'r')\n",
    "        cnt=len(excepFile.read())\n",
    "        i_cnt=int(cnt)\n",
    "        print('Length of file is :',i_cnt)\n",
    "    except:\n",
    "        print('File not found')\n",
    "        print('\\nEnter the file name you which is already existing or check the name which you have entered')\n",
    "        \n",
    "        \n",
    "fileLength('exceptionalcase.txt')"
   ]
  },
  {
   "cell_type": "markdown",
   "id": "acedc6a4",
   "metadata": {},
   "source": [
    "# 3) Inheriting class Kangaroo to class Marsupial and performing given task."
   ]
  },
  {
   "cell_type": "code",
   "execution_count": 14,
   "id": "0fb7eb18",
   "metadata": {},
   "outputs": [],
   "source": [
    "class Marsupial:\n",
    "    \n",
    "    list=[]\n",
    "    def put_in_pouch(self,strng):\n",
    "       self.list.append(strng)\n",
    "    def pouch_contents(self):\n",
    "        return(self.list)\n",
    "    "
   ]
  },
  {
   "cell_type": "code",
   "execution_count": 15,
   "id": "45c60644",
   "metadata": {},
   "outputs": [
    {
     "data": {
      "text/plain": [
       "['Doll', 'Firetruck', 'Kitten']"
      ]
     },
     "execution_count": 15,
     "metadata": {},
     "output_type": "execute_result"
    }
   ],
   "source": [
    "m = Marsupial()\n",
    "m.put_in_pouch('Doll')\n",
    "m.put_in_pouch('Firetruck')\n",
    "m.put_in_pouch('Kitten')\n",
    "m.pouch_contents()"
   ]
  },
  {
   "cell_type": "markdown",
   "id": "f828853d",
   "metadata": {},
   "source": [
    "# Inheriting class Kangaroo"
   ]
  },
  {
   "cell_type": "code",
   "execution_count": 46,
   "id": "7b2ff7fc",
   "metadata": {},
   "outputs": [],
   "source": [
    "class Marsupial:\n",
    "    \n",
    "    list=[]\n",
    "    list.clear()\n",
    "    \n",
    "    def __init__(self,x_coord,y_coord):\n",
    "        self.x = x_coord\n",
    "        self.y = y_coord\n",
    "        \n",
    "    def put_in_pouch(self,strng):\n",
    "        self.list.append(strng)\n",
    "        \n",
    "    def pouch_contents(self):\n",
    "        return(self.list)\n",
    "    \n",
    "    def jump(self,dx,dy):\n",
    "        self.x = self.x+dx\n",
    "        self.y = self.y+dy\n",
    "        print('I am kangaroo located at coordinates({},{})'.format(self.x,self.y))\n",
    "        \n",
    "class Kangaroo(Marsupial):\n",
    "    \n",
    "    pass\n",
    "    \n",
    "    \n"
   ]
  },
  {
   "cell_type": "code",
   "execution_count": 47,
   "id": "3dc5ef85",
   "metadata": {},
   "outputs": [
    {
     "data": {
      "text/plain": [
       "['Doll', 'Firetruck', 'kitten']"
      ]
     },
     "execution_count": 47,
     "metadata": {},
     "output_type": "execute_result"
    }
   ],
   "source": [
    "k = Kangaroo(0,0)\n",
    "k.put_in_pouch('Doll')\n",
    "k.put_in_pouch('Firetruck')\n",
    "k.put_in_pouch('kitten')\n",
    "k.pouch_contents()"
   ]
  },
  {
   "cell_type": "code",
   "execution_count": 48,
   "id": "a6109182",
   "metadata": {},
   "outputs": [
    {
     "name": "stdout",
     "output_type": "stream",
     "text": [
      "I am kangaroo located at coordinates(1,0)\n"
     ]
    }
   ],
   "source": [
    "k.jump(1,0)"
   ]
  },
  {
   "cell_type": "code",
   "execution_count": 38,
   "id": "b4fa0c85",
   "metadata": {},
   "outputs": [
    {
     "name": "stdout",
     "output_type": "stream",
     "text": [
      "I am a Kangaroo located at coordinates(2,0)\n"
     ]
    }
   ],
   "source": [
    "k.jump(1,0)"
   ]
  },
  {
   "cell_type": "code",
   "execution_count": 39,
   "id": "2834f9ae",
   "metadata": {},
   "outputs": [
    {
     "name": "stdout",
     "output_type": "stream",
     "text": [
      "I am a Kangaroo located at coordinates(3,0)\n"
     ]
    }
   ],
   "source": [
    "k.jump(1,0)"
   ]
  },
  {
   "cell_type": "markdown",
   "id": "f152d47f",
   "metadata": {},
   "source": [
    "# 4) Created a function  collatz() that takes a positive integer as an input and prints the collatz sequence provided below:\n",
    "\n",
    "              x = {𝑥/2           𝑖𝑓 𝑥 𝑖𝑠 𝑒𝑣𝑒𝑛\n",
    "                  {3𝑥 + 1        𝑖𝑓 𝑥 𝑖𝑠 𝑜𝑑d\n",
    "\n"
   ]
  },
  {
   "cell_type": "code",
   "execution_count": 12,
   "id": "03c9ad81",
   "metadata": {},
   "outputs": [],
   "source": [
    "def collatz(x):\n",
    "    \n",
    "    if x==1:\n",
    "        return 1\n",
    "    elif x%2 == 0:\n",
    "        print(x)\n",
    "        x=int(x/2)\n",
    "        collatz(x)\n",
    "    else:\n",
    "        print(x)\n",
    "        x =int(3*x+1)\n",
    "        collatz(x)\n",
    "            \n"
   ]
  },
  {
   "cell_type": "code",
   "execution_count": 13,
   "id": "78d0a2ab",
   "metadata": {},
   "outputs": [
    {
     "data": {
      "text/plain": [
       "1"
      ]
     },
     "execution_count": 13,
     "metadata": {},
     "output_type": "execute_result"
    }
   ],
   "source": [
    "collatz(1)"
   ]
  },
  {
   "cell_type": "code",
   "execution_count": 14,
   "id": "2e888a87",
   "metadata": {},
   "outputs": [
    {
     "name": "stdout",
     "output_type": "stream",
     "text": [
      "10\n",
      "5\n",
      "16\n",
      "8\n",
      "4\n",
      "2\n"
     ]
    }
   ],
   "source": [
    "collatz(10)"
   ]
  },
  {
   "cell_type": "markdown",
   "id": "e6a16679",
   "metadata": {},
   "source": [
    "# 5)Created a recursive method binary() which takes a positive integer and returns the binary representation of the input."
   ]
  },
  {
   "cell_type": "code",
   "execution_count": 16,
   "id": "8cde2d16",
   "metadata": {},
   "outputs": [],
   "source": [
    "def binary(binary_num):\n",
    "\n",
    "    if binary_num < 2:\n",
    "        print(binary_num)\n",
    "    else:\n",
    "        binary_con=bin(binary_num)\n",
    "        print(binary_con)\n",
    "        \n"
   ]
  },
  {
   "cell_type": "code",
   "execution_count": 17,
   "id": "7fd788bc",
   "metadata": {},
   "outputs": [
    {
     "name": "stdout",
     "output_type": "stream",
     "text": [
      "0\n"
     ]
    }
   ],
   "source": [
    "binary(0)"
   ]
  },
  {
   "cell_type": "code",
   "execution_count": 20,
   "id": "cbb4507d",
   "metadata": {},
   "outputs": [
    {
     "name": "stdout",
     "output_type": "stream",
     "text": [
      "1\n"
     ]
    }
   ],
   "source": [
    "binary(1)"
   ]
  },
  {
   "cell_type": "code",
   "execution_count": 21,
   "id": "9929ebf4",
   "metadata": {},
   "outputs": [
    {
     "name": "stdout",
     "output_type": "stream",
     "text": [
      "0b11\n"
     ]
    }
   ],
   "source": [
    "binary(3)"
   ]
  },
  {
   "cell_type": "code",
   "execution_count": 22,
   "id": "ebcb6a4e",
   "metadata": {},
   "outputs": [
    {
     "name": "stdout",
     "output_type": "stream",
     "text": [
      "0b1001\n"
     ]
    }
   ],
   "source": [
    "binary(9)"
   ]
  },
  {
   "cell_type": "markdown",
   "id": "43268a1c",
   "metadata": {},
   "source": [
    "# 6 Having a string containing a HTML code and printing heading from the given code.\n"
   ]
  },
  {
   "cell_type": "code",
   "execution_count": 7,
   "id": "8bcb2d9c",
   "metadata": {},
   "outputs": [],
   "source": [
    "from html.parser import HTMLParser\n",
    "\n",
    "class Heading(HTMLParser):\n",
    "    \n",
    "    def handle_data(self, data):\n",
    "        print(data)\n"
   ]
  },
  {
   "cell_type": "code",
   "execution_count": 8,
   "id": "d0d4284b",
   "metadata": {
    "scrolled": true
   },
   "outputs": [
    {
     "name": "stdout",
     "output_type": "stream",
     "text": [
      "\n",
      "\n",
      "\n",
      "\n",
      "\n",
      "\n",
      "  \n",
      "\n",
      "  \n",
      "\n",
      "  \n",
      "Change_me\n",
      "\n",
      "  \n",
      "\n",
      "  \n",
      "\n",
      "  \n",
      "\n",
      "\n",
      "\n",
      "\n",
      "\n",
      "\n",
      "  \n",
      "\t\n",
      "W3C Mission\n",
      "\n",
      "\t\n",
      "Principles\n",
      "\n",
      " \n",
      "\n",
      "\n",
      "\n",
      "\n",
      "\n"
     ]
    }
   ],
   "source": [
    "file=open('w3c.html')\n",
    "txt=file.read()\n",
    "file.close()\n",
    "html_heading = Heading()\n",
    "html_heading.feed(txt)"
   ]
  },
  {
   "cell_type": "markdown",
   "id": "7b20a50f",
   "metadata": {},
   "source": [
    "# 7) Implementing  recursive function webdir() that takes as input: a URL (as a string) and non-negative integers depth and indent which visit every web page reachable from the starting URL web page in depth clicks or less, and print each web page's URL."
   ]
  },
  {
   "cell_type": "code",
   "execution_count": 8,
   "id": "4d8994ac",
   "metadata": {},
   "outputs": [
    {
     "name": "stdout",
     "output_type": "stream",
     "text": [
      " http://reed.cs.depaul.edu/lperkovic/test1.html\n",
      "     http://reed.cs.depaul.edu/lperkovic/test2.html\n",
      "         http://reed.cs.depaul.edu/lperkovic/test4.html\n",
      "     http://reed.cs.depaul.edu/lperkovic/test3.html\n",
      "         http://reed.cs.depaul.edu/lperkovic/test4.html\n"
     ]
    }
   ],
   "source": [
    "from html.parser import HTMLParser\n",
    "from urllib.request import urlopen\n",
    "from urllib.parse import urljoin\n",
    "\n",
    "class Appender(HTMLParser):\n",
    "    def __init__(self,url):\n",
    "        HTMLParser.__init__(self)\n",
    "        self.url = url\n",
    "        self.url_links = []\n",
    "    def append(self):\n",
    "        return self.url_links\n",
    "    def handle_starttag(self, url_tag, attributes):\n",
    "        for a in attributes:\n",
    "            ab = urljoin(self.url,a[1])\n",
    "            if ab[:4] == 'http':\n",
    "                self.url_links.append(ab)\n",
    "    \n",
    "def webdir(url, depth, i=0):\n",
    "    depth = depth - 1\n",
    "    print(i*' ',url)\n",
    "    objective = urlopen(url).read().decode()\n",
    "    collection = Appender(url)\n",
    "    collection.feed(objective)\n",
    "    urls = collection.append()\n",
    "    url_links = urls\n",
    "    i = i + 4\n",
    "    for link in url_links:\n",
    "        if depth < 0 or i < 0:\n",
    "            return 1\n",
    "        else: \n",
    "            webdir(link, depth, i)\n",
    "            \n",
    "webdir('http://reed.cs.depaul.edu/lperkovic/test1.html', 2, 0)"
   ]
  },
  {
   "cell_type": "markdown",
   "id": "795d9acd",
   "metadata": {},
   "source": [
    "# 8) SQL Queries :\n"
   ]
  },
  {
   "cell_type": "markdown",
   "id": "853f3425",
   "metadata": {},
   "source": [
    "# Creating Database called Reports_weather and a table called Details which contains all the details of seasons, temperature and rainfall in particular country and as well as city for more information :"
   ]
  },
  {
   "cell_type": "code",
   "execution_count": 20,
   "id": "ecc4fbf9",
   "metadata": {},
   "outputs": [
    {
     "data": {
      "text/plain": [
       "<sqlite3.Cursor at 0x2188a2b5c00>"
      ]
     },
     "execution_count": 20,
     "metadata": {},
     "output_type": "execute_result"
    }
   ],
   "source": [
    "import sqlite3\n",
    "weather_details = sqlite3.connect('Reports_weather.db')\n",
    "reprt = weather_details.cursor()\n",
    "reprt.execute(\"CREATE TABLE Details (City text,Country text,Season text,Temperature float, Rainfall float)\")"
   ]
  },
  {
   "cell_type": "markdown",
   "id": "b2476259",
   "metadata": {},
   "source": [
    "# Adding data in the table Details :"
   ]
  },
  {
   "cell_type": "code",
   "execution_count": 21,
   "id": "dc7ca689",
   "metadata": {},
   "outputs": [
    {
     "data": {
      "text/plain": [
       "<sqlite3.Cursor at 0x2188a2b5c00>"
      ]
     },
     "execution_count": 21,
     "metadata": {},
     "output_type": "execute_result"
    }
   ],
   "source": [
    "name = \"INSERT INTO Details (City, Country, Season, Temperature, Rainfall) VALUES (?, ?, ?, ?, ?)\"\n",
    "value = [\n",
    "    ('Mumbai', 'India', 'Winter', 24.8, 5.9),\n",
    "    ('Mumbai', 'India', 'Spring',28.4,16.2)\n",
    "]\n",
    "\n",
    "reprt.executemany(name,value)\n"
   ]
  },
  {
   "cell_type": "code",
   "execution_count": 23,
   "id": "0e3b610e",
   "metadata": {},
   "outputs": [
    {
     "name": "stdout",
     "output_type": "stream",
     "text": [
      "('Mumbai', 'India', 'Winter', 24.8, 5.9)\n",
      "('Mumbai', 'India', 'Spring', 28.4, 16.2)\n"
     ]
    }
   ],
   "source": [
    "reprt.execute(\"SELECT * FROM Details \")\n",
    "for i in reprt:\n",
    "    print(i)"
   ]
  },
  {
   "cell_type": "code",
   "execution_count": 24,
   "id": "5d29338b",
   "metadata": {},
   "outputs": [
    {
     "data": {
      "text/plain": [
       "<sqlite3.Cursor at 0x2188a2b5c00>"
      ]
     },
     "execution_count": 24,
     "metadata": {},
     "output_type": "execute_result"
    }
   ],
   "source": [
    "name = \"INSERT INTO Details (City, Country, Season, Temperature, Rainfall) VALUES (?, ?, ?, ?, ?)\"\n",
    "value = [\n",
    "    ('Mumbai','India','Summer',27.9,1549.4),\n",
    "    ('Mumbai','India','Fall',27.6,346.0),\n",
    "    ('London','United Kingdom','Winter',4.2,207.7),\n",
    "    ('London','United Kingdom','Spring',8.3,169.6),\n",
    "    ('London','United Kingdom','Summer',15.7,157.0),\n",
    "    ('London','United Kingdom','Fall',10.4,218.5),\n",
    "    ('Cairo','Egypt','Winter',13.6,16.5),\n",
    "    ('Cairo','Egypt','Spring',20.7,6.5),\n",
    "    ('Cairo','Egypt','Summer',27.7,0.1),\n",
    "    ('Cairo','Egypt','Fall',22.2,4.5)\n",
    "]\n",
    "\n",
    "reprt.executemany(name,value)\n"
   ]
  },
  {
   "cell_type": "markdown",
   "id": "6643d454",
   "metadata": {},
   "source": [
    "# Table after adding the data :"
   ]
  },
  {
   "cell_type": "code",
   "execution_count": 25,
   "id": "ccd666fb",
   "metadata": {},
   "outputs": [
    {
     "name": "stdout",
     "output_type": "stream",
     "text": [
      "('Mumbai', 'India', 'Winter', 24.8, 5.9)\n",
      "('Mumbai', 'India', 'Spring', 28.4, 16.2)\n",
      "('Mumbai', 'India', 'Summer', 27.9, 1549.4)\n",
      "('Mumbai', 'India', 'Fall', 27.6, 346.0)\n",
      "('London', 'United Kingdom', 'Winter', 4.2, 207.7)\n",
      "('London', 'United Kingdom', 'Spring', 8.3, 169.6)\n",
      "('London', 'United Kingdom', 'Summer', 15.7, 157.0)\n",
      "('London', 'United Kingdom', 'Fall', 10.4, 218.5)\n",
      "('Cairo', 'Egypt', 'Winter', 13.6, 16.5)\n",
      "('Cairo', 'Egypt', 'Spring', 20.7, 6.5)\n",
      "('Cairo', 'Egypt', 'Summer', 27.7, 0.1)\n",
      "('Cairo', 'Egypt', 'Fall', 22.2, 4.5)\n"
     ]
    }
   ],
   "source": [
    "reprt.execute(\"SELECT * FROM Details \")\n",
    "for i in reprt:\n",
    "    print(i)"
   ]
  },
  {
   "cell_type": "markdown",
   "id": "7f3fb0c2",
   "metadata": {},
   "source": [
    "# a) Extracting all the temperature data : "
   ]
  },
  {
   "cell_type": "code",
   "execution_count": 26,
   "id": "bfb21a8a",
   "metadata": {},
   "outputs": [
    {
     "name": "stdout",
     "output_type": "stream",
     "text": [
      "(24.8,)\n",
      "(28.4,)\n",
      "(27.9,)\n",
      "(27.6,)\n",
      "(4.2,)\n",
      "(8.3,)\n",
      "(15.7,)\n",
      "(10.4,)\n",
      "(13.6,)\n",
      "(20.7,)\n",
      "(27.7,)\n",
      "(22.2,)\n"
     ]
    }
   ],
   "source": [
    "reprt.execute(\"SELECT Temperature FROM Details\")\n",
    "for i in reprt:\n",
    "    print(i)"
   ]
  },
  {
   "cell_type": "markdown",
   "id": "3d6db06b",
   "metadata": {},
   "source": [
    "# b) Extracting all the cities, but without repetition :"
   ]
  },
  {
   "cell_type": "code",
   "execution_count": 27,
   "id": "e09c6451",
   "metadata": {},
   "outputs": [
    {
     "name": "stdout",
     "output_type": "stream",
     "text": [
      "('Mumbai',)\n",
      "('London',)\n",
      "('Cairo',)\n"
     ]
    }
   ],
   "source": [
    "reprt.execute(\"SELECT DISTINCT City FROM Details\")\n",
    "for i in reprt:\n",
    "    print(i)"
   ]
  },
  {
   "cell_type": "markdown",
   "id": "09feac5d",
   "metadata": {},
   "source": [
    "# c) Extracting all the records for India :"
   ]
  },
  {
   "cell_type": "code",
   "execution_count": 28,
   "id": "157f5c85",
   "metadata": {},
   "outputs": [
    {
     "name": "stdout",
     "output_type": "stream",
     "text": [
      "('Mumbai', 'India', 'Winter', 24.8, 5.9)\n",
      "('Mumbai', 'India', 'Spring', 28.4, 16.2)\n",
      "('Mumbai', 'India', 'Summer', 27.9, 1549.4)\n",
      "('Mumbai', 'India', 'Fall', 27.6, 346.0)\n"
     ]
    }
   ],
   "source": [
    "reprt.execute(\"SELECT * FROM Details WHERE Country='India'\")\n",
    "for i in reprt:\n",
    "    print(i)"
   ]
  },
  {
   "cell_type": "markdown",
   "id": "d2ecb102",
   "metadata": {},
   "source": [
    "# d) Extracting all Fall records : "
   ]
  },
  {
   "cell_type": "code",
   "execution_count": 29,
   "id": "5baa80a5",
   "metadata": {},
   "outputs": [
    {
     "name": "stdout",
     "output_type": "stream",
     "text": [
      "('Mumbai', 'India', 'Fall', 27.6, 346.0)\n",
      "('London', 'United Kingdom', 'Fall', 10.4, 218.5)\n",
      "('Cairo', 'Egypt', 'Fall', 22.2, 4.5)\n"
     ]
    }
   ],
   "source": [
    "reprt.execute(\"SELECT * FROM Details WHERE Season='Fall'\")\n",
    "for i in reprt:\n",
    "    print(i)"
   ]
  },
  {
   "cell_type": "markdown",
   "id": "f8994bf6",
   "metadata": {},
   "source": [
    "# e) Extracting cities, countries and seasons whose average rainfall is between 200 and 400 millimeters :"
   ]
  },
  {
   "cell_type": "code",
   "execution_count": 31,
   "id": "a75952d9",
   "metadata": {},
   "outputs": [
    {
     "name": "stdout",
     "output_type": "stream",
     "text": [
      "('Mumbai', 'India', 'Fall')\n",
      "('London', 'United Kingdom', 'Winter')\n",
      "('London', 'United Kingdom', 'Fall')\n"
     ]
    }
   ],
   "source": [
    "reprt.execute(\"SELECT City,Country,Season FROM Details WHERE Rainfall>200 AND Rainfall<400\")\n",
    "for i in reprt:\n",
    "    print(i)\n"
   ]
  },
  {
   "cell_type": "markdown",
   "id": "076da5ee",
   "metadata": {},
   "source": [
    "# f) Extracting cities and countries whose average Fall temperature is above 20 and that too in increasing temperature order :\n",
    "\n"
   ]
  },
  {
   "cell_type": "code",
   "execution_count": 33,
   "id": "63678063",
   "metadata": {},
   "outputs": [
    {
     "name": "stdout",
     "output_type": "stream",
     "text": [
      "('Cairo', 'Egypt')\n",
      "('Mumbai', 'India')\n"
     ]
    }
   ],
   "source": [
    "reprt.execute(\"SELECT City,Country FROM Details WHERE Season='Fall' AND Temperature>20 ORDER BY Temperature ASC\")\n",
    "for i in reprt:\n",
    "    print(i)"
   ]
  },
  {
   "cell_type": "markdown",
   "id": "588a8e2b",
   "metadata": {},
   "source": [
    "# g) Calculating the total annual rainfall for Cairo :\n"
   ]
  },
  {
   "cell_type": "code",
   "execution_count": 34,
   "id": "2b27c505",
   "metadata": {},
   "outputs": [
    {
     "name": "stdout",
     "output_type": "stream",
     "text": [
      "(27.6,)\n"
     ]
    }
   ],
   "source": [
    "reprt.execute(\"SELECT SUM(Rainfall) FROM Details WHERE City='Cairo'\")\n",
    "for i in reprt:\n",
    "    print(i)\n"
   ]
  },
  {
   "cell_type": "markdown",
   "id": "5948a107",
   "metadata": {},
   "source": [
    "# h) Calculating the total Rainfall for each season :\n"
   ]
  },
  {
   "cell_type": "code",
   "execution_count": 35,
   "id": "b214dd4c",
   "metadata": {},
   "outputs": [
    {
     "name": "stdout",
     "output_type": "stream",
     "text": [
      "('Fall', 569.0)\n",
      "('Spring', 192.29999999999998)\n",
      "('Summer', 1706.5)\n",
      "('Winter', 230.1)\n"
     ]
    }
   ],
   "source": [
    "reprt.execute(\"SELECT Season, SUM(Rainfall) FROM Details GROUP BY Season;\")\n",
    "for i in reprt:\n",
    "    print(i)"
   ]
  },
  {
   "cell_type": "markdown",
   "id": "bac8abb5",
   "metadata": {},
   "source": [
    "# 9)Listing the comprehension expressions  by using the given list of words :"
   ]
  },
  {
   "cell_type": "code",
   "execution_count": 36,
   "id": "45ada3ee",
   "metadata": {},
   "outputs": [
    {
     "name": "stdout",
     "output_type": "stream",
     "text": [
      "['The', 'quick', 'brown', 'fox', 'jumps', 'over', 'the', 'lazy', 'dog']\n"
     ]
    }
   ],
   "source": [
    "word = ['The','quick','brown','fox','jumps','over','the','lazy','dog']\n",
    "print(word)"
   ]
  },
  {
   "cell_type": "markdown",
   "id": "e66633e6",
   "metadata": {},
   "source": [
    "# a)Converting the list to upper case :"
   ]
  },
  {
   "cell_type": "code",
   "execution_count": 37,
   "id": "83b0e5b9",
   "metadata": {},
   "outputs": [
    {
     "name": "stdout",
     "output_type": "stream",
     "text": [
      "['THE', 'QUICK', 'BROWN', 'FOX', 'JUMPS', 'OVER', 'THE', 'LAZY', 'DOG']\n"
     ]
    }
   ],
   "source": [
    "uppr_case = [upr_wrd.upper() for upr_wrd in word]\n",
    "print(uppr_case)"
   ]
  },
  {
   "cell_type": "markdown",
   "id": "7821f218",
   "metadata": {},
   "source": [
    "# b) Converting the list to lower case :"
   ]
  },
  {
   "cell_type": "code",
   "execution_count": 38,
   "id": "4238afe7",
   "metadata": {},
   "outputs": [
    {
     "name": "stdout",
     "output_type": "stream",
     "text": [
      "['the', 'quick', 'brown', 'fox', 'jumps', 'over', 'the', 'lazy', 'dog']\n"
     ]
    }
   ],
   "source": [
    "lower_case = [lwr_wrd.lower() for lwr_wrd in word]\n",
    "print(lower_case)"
   ]
  },
  {
   "cell_type": "markdown",
   "id": "ad02d606",
   "metadata": {},
   "source": [
    "# c) Counting length of each word in the list :"
   ]
  },
  {
   "cell_type": "code",
   "execution_count": 39,
   "id": "702ae34f",
   "metadata": {},
   "outputs": [
    {
     "name": "stdout",
     "output_type": "stream",
     "text": [
      "[3, 5, 5, 3, 5, 4, 3, 4, 3]\n"
     ]
    }
   ],
   "source": [
    "cnt_word = [len(cnt) for cnt in word]\n",
    "print(cnt_word)"
   ]
  },
  {
   "cell_type": "markdown",
   "id": "a4d704a6",
   "metadata": {},
   "source": [
    "# d) Converting each word into upper case, lower case and counting the length of each word provided in the list :"
   ]
  },
  {
   "cell_type": "code",
   "execution_count": 40,
   "id": "e6f21dd3",
   "metadata": {},
   "outputs": [
    {
     "name": "stdout",
     "output_type": "stream",
     "text": [
      "[('THE', 'the', 3), ('QUICK', 'quick', 5), ('BROWN', 'brown', 5), ('FOX', 'fox', 3), ('JUMPS', 'jumps', 5), ('OVER', 'over', 4), ('THE', 'the', 3), ('LAZY', 'lazy', 4), ('DOG', 'dog', 3)]\n"
     ]
    }
   ],
   "source": [
    "mix_words = [(mix.upper(),mix.lower(),len(mix)) for mix in word]\n",
    "print(mix_words)"
   ]
  },
  {
   "cell_type": "markdown",
   "id": "57be98ef",
   "metadata": {},
   "source": [
    "# e) Extracting the words from the list whose length is greater than 4 :"
   ]
  },
  {
   "cell_type": "code",
   "execution_count": 41,
   "id": "c409a481",
   "metadata": {},
   "outputs": [
    {
     "name": "stdout",
     "output_type": "stream",
     "text": [
      "['quick', 'brown', 'jumps', 'over', 'lazy']\n"
     ]
    }
   ],
   "source": [
    "great = [grt for grt in word if len(grt)>=4]\n",
    "print(great)"
   ]
  }
 ],
 "metadata": {
  "kernelspec": {
   "display_name": "Python 3 (ipykernel)",
   "language": "python",
   "name": "python3"
  },
  "language_info": {
   "codemirror_mode": {
    "name": "ipython",
    "version": 3
   },
   "file_extension": ".py",
   "mimetype": "text/x-python",
   "name": "python",
   "nbconvert_exporter": "python",
   "pygments_lexer": "ipython3",
   "version": "3.9.7"
  }
 },
 "nbformat": 4,
 "nbformat_minor": 5
}
